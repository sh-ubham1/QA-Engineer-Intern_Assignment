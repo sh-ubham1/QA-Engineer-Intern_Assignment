{
 "cells": [
  {
   "cell_type": "code",
   "execution_count": 1,
   "id": "9c192c9e-feb5-4f2c-8ac0-ab27a8f2930f",
   "metadata": {
    "tags": []
   },
   "outputs": [
    {
     "name": "stdout",
     "output_type": "stream",
     "text": [
      "1. Get weather\n",
      "2. Get Wind Speed\n",
      "3. Get Pressure\n",
      "0. Exit\n"
     ]
    },
    {
     "name": "stdin",
     "output_type": "stream",
     "text": [
      "Enter your choice:  1\n",
      "Enter the date:  1-08-2023\n"
     ]
    },
    {
     "name": "stdout",
     "output_type": "stream",
     "text": [
      "The temperature on 1-08-2023 is None degrees Celsius\n"
     ]
    }
   ],
   "source": [
    "import requests\n",
    "import json\n",
    "\n",
    "def get_weather(date):\n",
    "    url = \"https://api.openweathermap.org/data/2.5/weather?q=London,uk&appid=YOUR_API_KEY&units=metric&dt={}\".format(date)\n",
    "    response = requests.get(url)\n",
    "    if response.status_code == 200:\n",
    "        data = json.loads(response.content)\n",
    "        return data[\"main\"][\"temp\"]\n",
    "    else:\n",
    "        return None\n",
    "\n",
    "def get_wind_speed(date):\n",
    "    url = \"https://api.openweathermap.org/data/2.5/weather?q=London,uk&appid=YOUR_API_KEY&units=metric&dt={}\".format(date)\n",
    "    response = requests.get(url)\n",
    "    if response.status_code == 200:\n",
    "        data = json.loads(response.content)\n",
    "        return data[\"wind\"][\"speed\"]\n",
    "    else:\n",
    "        return None\n",
    "\n",
    "def get_pressure(date):\n",
    "    url = \"https://api.openweathermap.org/data/2.5/weather?q=London,uk&appid=YOUR_API_KEY&units=metric&dt={}\".format(date)\n",
    "    response = requests.get(url)\n",
    "    if response.status_code == 200:\n",
    "        data = json.loads(response.content)\n",
    "        return data[\"main\"][\"pressure\"]\n",
    "    else:\n",
    "        return None\n",
    "\n",
    "def main():\n",
    "    print(\"1. Get weather\")\n",
    "    print(\"2. Get Wind Speed\")\n",
    "    print(\"3. Get Pressure\")\n",
    "    print(\"0. Exit\")\n",
    "\n",
    "    choice = int(input(\"Enter your choice: \"))\n",
    "\n",
    "    if choice == 1:\n",
    "        date = input(\"Enter the date: \")\n",
    "        temp = get_weather(date)\n",
    "        print(\"The temperature on {} is {} degrees Celsius\".format(date, temp))\n",
    "    elif choice == 2:\n",
    "        date = input(\"Enter the date: \")\n",
    "        wind_speed = get_wind_speed(date)\n",
    "        print(\"The wind speed on {} is {} meters per second\".format(date, wind_speed))\n",
    "    elif choice == 3:\n",
    "        date = input(\"Enter the date: \")\n",
    "        pressure = get_pressure(date)\n",
    "        print(\"The pressure on {} is {} hPa\".format(date, pressure))\n",
    "    elif choice == 0:\n",
    "        print(\"Exiting...\")\n",
    "    else:\n",
    "        print(\"Invalid choice\")\n",
    "\n",
    "if __name__ == \"__main__\":\n",
    "    main()\n"
   ]
  },
  {
   "cell_type": "code",
   "execution_count": 2,
   "id": "e4f01d66-5c77-4fcc-b750-6b05329106ed",
   "metadata": {},
   "outputs": [
    {
     "name": "stdout",
     "output_type": "stream",
     "text": [
      "1. Get weather\n",
      "2. Get Wind Speed\n",
      "3. Get Pressure\n",
      "0. Exit\n"
     ]
    },
    {
     "name": "stdin",
     "output_type": "stream",
     "text": [
      "Enter your choice:  2\n",
      "Enter the date:  1-08-2023\n"
     ]
    },
    {
     "name": "stdout",
     "output_type": "stream",
     "text": [
      "The wind speed on 1-08-2023 is None meters per second\n"
     ]
    }
   ],
   "source": [
    "import requests\n",
    "import json\n",
    "\n",
    "def get_weather(date):\n",
    "    url = \"https://api.openweathermap.org/data/2.5/weather?q=London,uk&appid=YOUR_API_KEY&units=metric&dt={}\".format(date)\n",
    "    response = requests.get(url)\n",
    "    if response.status_code == 200:\n",
    "        data = json.loads(response.content)\n",
    "        return data[\"main\"][\"temp\"]\n",
    "    else:\n",
    "        return None\n",
    "\n",
    "def get_wind_speed(date):\n",
    "    url = \"https://api.openweathermap.org/data/2.5/weather?q=London,uk&appid=YOUR_API_KEY&units=metric&dt={}\".format(date)\n",
    "    response = requests.get(url)\n",
    "    if response.status_code == 200:\n",
    "        data = json.loads(response.content)\n",
    "        return data[\"wind\"][\"speed\"]\n",
    "    else:\n",
    "        return None\n",
    "\n",
    "def get_pressure(date):\n",
    "    url = \"https://api.openweathermap.org/data/2.5/weather?q=London,uk&appid=YOUR_API_KEY&units=metric&dt={}\".format(date)\n",
    "    response = requests.get(url)\n",
    "    if response.status_code == 200:\n",
    "        data = json.loads(response.content)\n",
    "        return data[\"main\"][\"pressure\"]\n",
    "    else:\n",
    "        return None\n",
    "\n",
    "def main():\n",
    "    print(\"1. Get weather\")\n",
    "    print(\"2. Get Wind Speed\")\n",
    "    print(\"3. Get Pressure\")\n",
    "    print(\"0. Exit\")\n",
    "\n",
    "    choice = int(input(\"Enter your choice: \"))\n",
    "\n",
    "    if choice == 1:\n",
    "        date = input(\"Enter the date: \")\n",
    "        temp = get_weather(date)\n",
    "        print(\"The temperature on {} is {} degrees Celsius\".format(date, temp))\n",
    "    elif choice == 2:\n",
    "        date = input(\"Enter the date: \")\n",
    "        wind_speed = get_wind_speed(date)\n",
    "        print(\"The wind speed on {} is {} meters per second\".format(date, wind_speed))\n",
    "    elif choice == 3:\n",
    "        date = input(\"Enter the date: \")\n",
    "        pressure = get_pressure(date)\n",
    "        print(\"The pressure on {} is {} hPa\".format(date, pressure))\n",
    "    elif choice == 0:\n",
    "        print(\"Exiting...\")\n",
    "    else:\n",
    "        print(\"Invalid choice\")\n",
    "\n",
    "if __name__ == \"__main__\":\n",
    "    main()\n"
   ]
  },
  {
   "cell_type": "code",
   "execution_count": 3,
   "id": "bddae568-383e-41a0-b5c2-0242ebe68c21",
   "metadata": {
    "tags": []
   },
   "outputs": [
    {
     "name": "stdout",
     "output_type": "stream",
     "text": [
      "1. Get weather\n",
      "2. Get Wind Speed\n",
      "3. Get Pressure\n",
      "0. Exit\n"
     ]
    },
    {
     "name": "stdin",
     "output_type": "stream",
     "text": [
      "Enter your choice:  3\n",
      "Enter the date:  1-08-2023\n"
     ]
    },
    {
     "name": "stdout",
     "output_type": "stream",
     "text": [
      "The pressure on 1-08-2023 is None hPa\n"
     ]
    }
   ],
   "source": [
    "import requests\n",
    "import json\n",
    "\n",
    "def get_weather(date):\n",
    "    url = \"https://api.openweathermap.org/data/2.5/weather?q=London,uk&appid=YOUR_API_KEY&units=metric&dt={}\".format(date)\n",
    "    response = requests.get(url)\n",
    "    if response.status_code == 200:\n",
    "        data = json.loads(response.content)\n",
    "        return data[\"main\"][\"temp\"]\n",
    "    else:\n",
    "        return None\n",
    "\n",
    "def get_wind_speed(date):\n",
    "    url = \"https://api.openweathermap.org/data/2.5/weather?q=London,uk&appid=YOUR_API_KEY&units=metric&dt={}\".format(date)\n",
    "    response = requests.get(url)\n",
    "    if response.status_code == 200:\n",
    "        data = json.loads(response.content)\n",
    "        return data[\"wind\"][\"speed\"]\n",
    "    else:\n",
    "        return None\n",
    "\n",
    "def get_pressure(date):\n",
    "    url = \"https://api.openweathermap.org/data/2.5/weather?q=London,uk&appid=YOUR_API_KEY&units=metric&dt={}\".format(date)\n",
    "    response = requests.get(url)\n",
    "    if response.status_code == 200:\n",
    "        data = json.loads(response.content)\n",
    "        return data[\"main\"][\"pressure\"]\n",
    "    else:\n",
    "        return None\n",
    "\n",
    "def main():\n",
    "    print(\"1. Get weather\")\n",
    "    print(\"2. Get Wind Speed\")\n",
    "    print(\"3. Get Pressure\")\n",
    "    print(\"0. Exit\")\n",
    "\n",
    "    choice = int(input(\"Enter your choice: \"))\n",
    "\n",
    "    if choice == 1:\n",
    "        date = input(\"Enter the date: \")\n",
    "        temp = get_weather(date)\n",
    "        print(\"The temperature on {} is {} degrees Celsius\".format(date, temp))\n",
    "    elif choice == 2:\n",
    "        date = input(\"Enter the date: \")\n",
    "        wind_speed = get_wind_speed(date)\n",
    "        print(\"The wind speed on {} is {} meters per second\".format(date, wind_speed))\n",
    "    elif choice == 3:\n",
    "        date = input(\"Enter the date: \")\n",
    "        pressure = get_pressure(date)\n",
    "        print(\"The pressure on {} is {} hPa\".format(date, pressure))\n",
    "    elif choice == 0:\n",
    "        print(\"Exiting...\")\n",
    "    else:\n",
    "        print(\"Invalid choice\")\n",
    "\n",
    "if __name__ == \"__main__\":\n",
    "    main()\n"
   ]
  },
  {
   "cell_type": "code",
   "execution_count": 4,
   "id": "cddd8bd5-a442-4b00-aeee-d783650efca6",
   "metadata": {
    "tags": []
   },
   "outputs": [
    {
     "name": "stdout",
     "output_type": "stream",
     "text": [
      "1. Get weather\n",
      "2. Get Wind Speed\n",
      "3. Get Pressure\n",
      "0. Exit\n"
     ]
    },
    {
     "name": "stdin",
     "output_type": "stream",
     "text": [
      "Enter your choice:  0\n"
     ]
    },
    {
     "name": "stdout",
     "output_type": "stream",
     "text": [
      "Exiting...\n"
     ]
    }
   ],
   "source": [
    "import requests\n",
    "import json\n",
    "\n",
    "def get_weather(date):\n",
    "    url = \"https://api.openweathermap.org/data/2.5/weather?q=London,uk&appid=YOUR_API_KEY&units=metric&dt={}\".format(date)\n",
    "    response = requests.get(url)\n",
    "    if response.status_code == 200:\n",
    "        data = json.loads(response.content)\n",
    "        return data[\"main\"][\"temp\"]\n",
    "    else:\n",
    "        return None\n",
    "\n",
    "def get_wind_speed(date):\n",
    "    url = \"https://api.openweathermap.org/data/2.5/weather?q=London,uk&appid=YOUR_API_KEY&units=metric&dt={}\".format(date)\n",
    "    response = requests.get(url)\n",
    "    if response.status_code == 200:\n",
    "        data = json.loads(response.content)\n",
    "        return data[\"wind\"][\"speed\"]\n",
    "    else:\n",
    "        return None\n",
    "\n",
    "def get_pressure(date):\n",
    "    url = \"https://api.openweathermap.org/data/2.5/weather?q=London,uk&appid=YOUR_API_KEY&units=metric&dt={}\".format(date)\n",
    "    response = requests.get(url)\n",
    "    if response.status_code == 200:\n",
    "        data = json.loads(response.content)\n",
    "        return data[\"main\"][\"pressure\"]\n",
    "    else:\n",
    "        return None\n",
    "\n",
    "def main():\n",
    "    print(\"1. Get weather\")\n",
    "    print(\"2. Get Wind Speed\")\n",
    "    print(\"3. Get Pressure\")\n",
    "    print(\"0. Exit\")\n",
    "\n",
    "    choice = int(input(\"Enter your choice: \"))\n",
    "\n",
    "    if choice == 1:\n",
    "        date = input(\"Enter the date: \")\n",
    "        temp = get_weather(date)\n",
    "        print(\"The temperature on {} is {} degrees Celsius\".format(date, temp))\n",
    "    elif choice == 2:\n",
    "        date = input(\"Enter the date: \")\n",
    "        wind_speed = get_wind_speed(date)\n",
    "        print(\"The wind speed on {} is {} meters per second\".format(date, wind_speed))\n",
    "    elif choice == 3:\n",
    "        date = input(\"Enter the date: \")\n",
    "        pressure = get_pressure(date)\n",
    "        print(\"The pressure on {} is {} hPa\".format(date, pressure))\n",
    "    elif choice == 0:\n",
    "        print(\"Exiting...\")\n",
    "    else:\n",
    "        print(\"Invalid choice\")\n",
    "\n",
    "if __name__ == \"__main__\":\n",
    "    main()\n"
   ]
  },
  {
   "cell_type": "code",
   "execution_count": null,
   "id": "24ad1d3b-d050-4d66-9146-5719eeecf9f4",
   "metadata": {},
   "outputs": [],
   "source": []
  }
 ],
 "metadata": {
  "kernelspec": {
   "display_name": "Python 3 (ipykernel)",
   "language": "python",
   "name": "python3"
  },
  "language_info": {
   "codemirror_mode": {
    "name": "ipython",
    "version": 3
   },
   "file_extension": ".py",
   "mimetype": "text/x-python",
   "name": "python",
   "nbconvert_exporter": "python",
   "pygments_lexer": "ipython3",
   "version": "3.11.3"
  }
 },
 "nbformat": 4,
 "nbformat_minor": 5
}
